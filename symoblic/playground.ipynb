{
 "cells": [
  {
   "cell_type": "code",
   "execution_count": 1,
   "metadata": {},
   "outputs": [],
   "source": [
    "%load_ext autoreload\n",
    "%autoreload 2\n",
    "\n",
    "import os\n",
    "import sys\n",
    "sys.path.append(os.path.abspath(\".\"))\n",
    "\n",
    "with open(\"keys/openai_api_key.txt\") as f:\n",
    "    os.environ[\"OPENAI_API_KEY\"] = f.read().strip()"
   ]
  },
  {
   "cell_type": "code",
   "execution_count": 2,
   "metadata": {},
   "outputs": [],
   "source": [
    "import argparse\n",
    "from datetime import datetime\n",
    "\n",
    "import numpy as np\n",
    "import wandb\n",
    "from src.generate import generate_prompt\n",
    "from src.llms import GPT, Model\n",
    "from xarc import TASK_LIST\n",
    "from xarc import generate_data_with_options as xarc_generate\n",
    "\n",
    "from utils import cross_entropy_loss"
   ]
  }
 ],
 "metadata": {
  "kernelspec": {
   "display_name": "preq_code",
   "language": "python",
   "name": "python3"
  },
  "language_info": {
   "codemirror_mode": {
    "name": "ipython",
    "version": 3
   },
   "file_extension": ".py",
   "mimetype": "text/x-python",
   "name": "python",
   "nbconvert_exporter": "python",
   "pygments_lexer": "ipython3",
   "version": "3.12.4"
  }
 },
 "nbformat": 4,
 "nbformat_minor": 2
}
