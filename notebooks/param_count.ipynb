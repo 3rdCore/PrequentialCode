{
 "cells": [
  {
   "cell_type": "code",
   "execution_count": 1,
   "metadata": {},
   "outputs": [],
   "source": [
    "import sys\n",
    "import hydra\n",
    "from hydra.core.global_hydra import GlobalHydra\n",
    "\n",
    "sys.path.append('..')"
   ]
  },
  {
   "cell_type": "code",
   "execution_count": 2,
   "metadata": {},
   "outputs": [],
   "source": [
    "def get_model(model_name, **kwargs):\n",
    "    # Clear the existing Hydra instance if it is already initialized\n",
    "    if GlobalHydra().is_initialized():\n",
    "        GlobalHydra().clear()\n",
    "    # Initialize Hydra and load the configuration\n",
    "    hydra.initialize(config_path=\"../configs/task/context_aggregator\")\n",
    "    assert model_name in ['s4', 'mamba', 'transformer']\n",
    "    model_cfg = hydra.compose(config_name=model_name)\n",
    "    model_cfg.x_dim = 128\n",
    "    for key, value in kwargs.items():\n",
    "        setattr(model_cfg, key, value)\n",
    "    model = hydra.utils.instantiate(model_cfg)\n",
    "    return model"
   ]
  },
  {
   "cell_type": "code",
   "execution_count": 6,
   "metadata": {},
   "outputs": [
    {
     "name": "stderr",
     "output_type": "stream",
     "text": [
      "/tmp/ipykernel_3223590/3335326850.py:6: UserWarning: \n",
      "The version_base parameter is not specified.\n",
      "Please specify a compatability version level, or None.\n",
      "Will assume defaults for version 1.1\n",
      "  hydra.initialize(config_path=\"../configs/task/context_aggregator\")\n"
     ]
    }
   ],
   "source": [
    "s4 = get_model('s4', mixer_type=\"S4\")\n",
    "s4d = get_model('s4', mixer_type=\"S4D\")\n",
    "mamba1 = get_model('mamba', mixer_type=\"Mamba1\")\n",
    "mamba2 = get_model('mamba', mixer_type=\"Mamba2\")\n",
    "transf = get_model('transformer')"
   ]
  },
  {
   "cell_type": "code",
   "execution_count": 7,
   "metadata": {},
   "outputs": [
    {
     "name": "stdout",
     "output_type": "stream",
     "text": [
      "S4 model parameters: 858,752\n",
      "S4D model parameters: 727,680\n",
      "Mamba1 model parameters: 4,131,456\n",
      "Mamba2 model parameters: 4,039,712\n",
      "Transformer model parameters: 2,174,592\n"
     ]
    }
   ],
   "source": [
    "def count_parameters(model):\n",
    "    return sum(p.numel() for p in model.parameters())\n",
    "\n",
    "print(f\"S4 model parameters: {count_parameters(s4):,}\")\n",
    "print(f\"S4D model parameters: {count_parameters(s4d):,}\")\n",
    "print(f\"Mamba1 model parameters: {count_parameters(mamba1):,}\")\n",
    "print(f\"Mamba2 model parameters: {count_parameters(mamba2):,}\")\n",
    "print(f\"Transformer model parameters: {count_parameters(transf):,}\")"
   ]
  }
 ],
 "metadata": {
  "kernelspec": {
   "display_name": "jax",
   "language": "python",
   "name": "python3"
  },
  "language_info": {
   "codemirror_mode": {
    "name": "ipython",
    "version": 3
   },
   "file_extension": ".py",
   "mimetype": "text/x-python",
   "name": "python",
   "nbconvert_exporter": "python",
   "pygments_lexer": "ipython3",
   "version": "3.10.11"
  }
 },
 "nbformat": 4,
 "nbformat_minor": 2
}
